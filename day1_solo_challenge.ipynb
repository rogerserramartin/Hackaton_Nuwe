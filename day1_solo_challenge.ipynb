{
  "nbformat": 4,
  "nbformat_minor": 0,
  "metadata": {
    "colab": {
      "name": "Roger_Serra.ipynb",
      "provenance": [],
      "collapsed_sections": [],
      "toc_visible": true
    },
    "kernelspec": {
      "name": "python3",
      "display_name": "Python 3"
    }
  },
  "cells": [
    {
      "cell_type": "markdown",
      "metadata": {
        "id": "m3WjiXKZg1NM"
      },
      "source": [
        "Retos individuales\r\n",
        "\r\n",
        "*   Hackathon: HACK THAT STARTUP\r\n",
        "*   Author: Roger Serra\r\n",
        "\r\n"
      ]
    },
    {
      "cell_type": "markdown",
      "metadata": {
        "id": "XFVG9vT1qWJB"
      },
      "source": [
        "# Challenge 1\r\n"
      ]
    },
    {
      "cell_type": "markdown",
      "metadata": {
        "id": "f79osMXnsB8R"
      },
      "source": [
        "A)\r\n"
      ]
    },
    {
      "cell_type": "code",
      "metadata": {
        "colab": {
          "base_uri": "https://localhost:8080/",
          "height": 419
        },
        "id": "FdPEyRq_qh_L",
        "outputId": "2d095197-4ffd-4b4f-9e6a-69553762fab6"
      },
      "source": [
        "import numpy as np\r\n",
        "import pandas as pd\r\n",
        "import matplotlib.pyplot as plt\r\n",
        "\r\n",
        "dataframe = pd.read_csv('/content/sample_data/Marketing.csv')\r\n",
        "dataframe"
      ],
      "execution_count": null,
      "outputs": [
        {
          "output_type": "execute_result",
          "data": {
            "text/html": [
              "<div>\n",
              "<style scoped>\n",
              "    .dataframe tbody tr th:only-of-type {\n",
              "        vertical-align: middle;\n",
              "    }\n",
              "\n",
              "    .dataframe tbody tr th {\n",
              "        vertical-align: top;\n",
              "    }\n",
              "\n",
              "    .dataframe thead th {\n",
              "        text-align: right;\n",
              "    }\n",
              "</style>\n",
              "<table border=\"1\" class=\"dataframe\">\n",
              "  <thead>\n",
              "    <tr style=\"text-align: right;\">\n",
              "      <th></th>\n",
              "      <th>TV</th>\n",
              "      <th>Radio</th>\n",
              "      <th>Periodico</th>\n",
              "      <th>Redes Sociales</th>\n",
              "      <th>Email</th>\n",
              "      <th>Ingresos</th>\n",
              "    </tr>\n",
              "  </thead>\n",
              "  <tbody>\n",
              "    <tr>\n",
              "      <th>0</th>\n",
              "      <td>230.1</td>\n",
              "      <td>37.8</td>\n",
              "      <td>69.2</td>\n",
              "      <td>151.81</td>\n",
              "      <td>25.85</td>\n",
              "      <td>22.1</td>\n",
              "    </tr>\n",
              "    <tr>\n",
              "      <th>1</th>\n",
              "      <td>44.5</td>\n",
              "      <td>39.3</td>\n",
              "      <td>45.1</td>\n",
              "      <td>47.49</td>\n",
              "      <td>55.98</td>\n",
              "      <td>10.4</td>\n",
              "    </tr>\n",
              "    <tr>\n",
              "      <th>2</th>\n",
              "      <td>17.2</td>\n",
              "      <td>45.9</td>\n",
              "      <td>69.3</td>\n",
              "      <td>35.76</td>\n",
              "      <td>133.43</td>\n",
              "      <td>9.3</td>\n",
              "    </tr>\n",
              "    <tr>\n",
              "      <th>3</th>\n",
              "      <td>151.5</td>\n",
              "      <td>41.3</td>\n",
              "      <td>58.5</td>\n",
              "      <td>109.25</td>\n",
              "      <td>33.17</td>\n",
              "      <td>18.5</td>\n",
              "    </tr>\n",
              "    <tr>\n",
              "      <th>4</th>\n",
              "      <td>180.8</td>\n",
              "      <td>10.8</td>\n",
              "      <td>58.4</td>\n",
              "      <td>108.57</td>\n",
              "      <td>8.71</td>\n",
              "      <td>12.9</td>\n",
              "    </tr>\n",
              "    <tr>\n",
              "      <th>...</th>\n",
              "      <td>...</td>\n",
              "      <td>...</td>\n",
              "      <td>...</td>\n",
              "      <td>...</td>\n",
              "      <td>...</td>\n",
              "      <td>...</td>\n",
              "    </tr>\n",
              "    <tr>\n",
              "      <th>195</th>\n",
              "      <td>38.2</td>\n",
              "      <td>3.7</td>\n",
              "      <td>13.8</td>\n",
              "      <td>23.74</td>\n",
              "      <td>3.23</td>\n",
              "      <td>7.6</td>\n",
              "    </tr>\n",
              "    <tr>\n",
              "      <th>196</th>\n",
              "      <td>94.2</td>\n",
              "      <td>4.9</td>\n",
              "      <td>8.1</td>\n",
              "      <td>56.16</td>\n",
              "      <td>1.06</td>\n",
              "      <td>9.7</td>\n",
              "    </tr>\n",
              "    <tr>\n",
              "      <th>197</th>\n",
              "      <td>177.0</td>\n",
              "      <td>9.3</td>\n",
              "      <td>6.4</td>\n",
              "      <td>105.57</td>\n",
              "      <td>0.85</td>\n",
              "      <td>12.8</td>\n",
              "    </tr>\n",
              "    <tr>\n",
              "      <th>198</th>\n",
              "      <td>283.6</td>\n",
              "      <td>42.0</td>\n",
              "      <td>66.2</td>\n",
              "      <td>184.51</td>\n",
              "      <td>22.60</td>\n",
              "      <td>25.5</td>\n",
              "    </tr>\n",
              "    <tr>\n",
              "      <th>199</th>\n",
              "      <td>232.1</td>\n",
              "      <td>8.6</td>\n",
              "      <td>8.7</td>\n",
              "      <td>136.40</td>\n",
              "      <td>0.82</td>\n",
              "      <td>13.4</td>\n",
              "    </tr>\n",
              "  </tbody>\n",
              "</table>\n",
              "<p>200 rows × 6 columns</p>\n",
              "</div>"
            ],
            "text/plain": [
              "        TV  Radio  Periodico  Redes Sociales   Email  Ingresos\n",
              "0    230.1   37.8       69.2          151.81   25.85      22.1\n",
              "1     44.5   39.3       45.1           47.49   55.98      10.4\n",
              "2     17.2   45.9       69.3           35.76  133.43       9.3\n",
              "3    151.5   41.3       58.5          109.25   33.17      18.5\n",
              "4    180.8   10.8       58.4          108.57    8.71      12.9\n",
              "..     ...    ...        ...             ...     ...       ...\n",
              "195   38.2    3.7       13.8           23.74    3.23       7.6\n",
              "196   94.2    4.9        8.1           56.16    1.06       9.7\n",
              "197  177.0    9.3        6.4          105.57    0.85      12.8\n",
              "198  283.6   42.0       66.2          184.51   22.60      25.5\n",
              "199  232.1    8.6        8.7          136.40    0.82      13.4\n",
              "\n",
              "[200 rows x 6 columns]"
            ]
          },
          "metadata": {
            "tags": []
          },
          "execution_count": 50
        }
      ]
    },
    {
      "cell_type": "code",
      "metadata": {
        "colab": {
          "base_uri": "https://localhost:8080/",
          "height": 331
        },
        "id": "ZwOLKTS1guKi",
        "outputId": "a938e39b-6feb-4662-f598-d7d1ac05509f"
      },
      "source": [
        "tv = round(dataframe['TV'].sum(), 2)\r\n",
        "radio = round(dataframe['Radio'].sum(), 2)\r\n",
        "periodico = round(dataframe['Periodico'].sum(), 2)\r\n",
        "redes = round(dataframe['Redes Sociales'].sum(), 2)\r\n",
        "email = round(dataframe['Email'].sum(), 2)\r\n",
        "\r\n",
        "marketing_costs = {\"TV\": tv, \"Radio\": radio, \"Periodico\": periodico, \"Redes Sociales\": redes, \"Email\": email}\r\n",
        "print(marketing_costs, \"\\n\")\r\n",
        "dataframe.describe()"
      ],
      "execution_count": null,
      "outputs": [
        {
          "output_type": "stream",
          "text": [
            "{'TV': 29408.5, 'Radio': 4652.8, 'Periodico': 6110.8, 'Redes Sociales': 19301.35, 'Email': 3451.87} \n",
            "\n"
          ],
          "name": "stdout"
        },
        {
          "output_type": "execute_result",
          "data": {
            "text/html": [
              "<div>\n",
              "<style scoped>\n",
              "    .dataframe tbody tr th:only-of-type {\n",
              "        vertical-align: middle;\n",
              "    }\n",
              "\n",
              "    .dataframe tbody tr th {\n",
              "        vertical-align: top;\n",
              "    }\n",
              "\n",
              "    .dataframe thead th {\n",
              "        text-align: right;\n",
              "    }\n",
              "</style>\n",
              "<table border=\"1\" class=\"dataframe\">\n",
              "  <thead>\n",
              "    <tr style=\"text-align: right;\">\n",
              "      <th></th>\n",
              "      <th>TV</th>\n",
              "      <th>Radio</th>\n",
              "      <th>Periodico</th>\n",
              "      <th>Redes Sociales</th>\n",
              "      <th>Email</th>\n",
              "      <th>Ingresos</th>\n",
              "    </tr>\n",
              "  </thead>\n",
              "  <tbody>\n",
              "    <tr>\n",
              "      <th>count</th>\n",
              "      <td>200.000000</td>\n",
              "      <td>200.000000</td>\n",
              "      <td>200.000000</td>\n",
              "      <td>200.000000</td>\n",
              "      <td>200.000000</td>\n",
              "      <td>200.000000</td>\n",
              "    </tr>\n",
              "    <tr>\n",
              "      <th>mean</th>\n",
              "      <td>147.042500</td>\n",
              "      <td>23.264000</td>\n",
              "      <td>30.554000</td>\n",
              "      <td>96.506750</td>\n",
              "      <td>17.259350</td>\n",
              "      <td>14.022500</td>\n",
              "    </tr>\n",
              "    <tr>\n",
              "      <th>std</th>\n",
              "      <td>85.854236</td>\n",
              "      <td>14.846809</td>\n",
              "      <td>21.778621</td>\n",
              "      <td>49.824942</td>\n",
              "      <td>26.584668</td>\n",
              "      <td>5.217457</td>\n",
              "    </tr>\n",
              "    <tr>\n",
              "      <th>min</th>\n",
              "      <td>0.700000</td>\n",
              "      <td>0.000000</td>\n",
              "      <td>0.300000</td>\n",
              "      <td>6.060000</td>\n",
              "      <td>0.000000</td>\n",
              "      <td>1.600000</td>\n",
              "    </tr>\n",
              "    <tr>\n",
              "      <th>25%</th>\n",
              "      <td>74.375000</td>\n",
              "      <td>9.975000</td>\n",
              "      <td>12.750000</td>\n",
              "      <td>51.357500</td>\n",
              "      <td>2.522500</td>\n",
              "      <td>10.375000</td>\n",
              "    </tr>\n",
              "    <tr>\n",
              "      <th>50%</th>\n",
              "      <td>149.750000</td>\n",
              "      <td>22.900000</td>\n",
              "      <td>25.750000</td>\n",
              "      <td>99.480000</td>\n",
              "      <td>8.160000</td>\n",
              "      <td>12.900000</td>\n",
              "    </tr>\n",
              "    <tr>\n",
              "      <th>75%</th>\n",
              "      <td>218.825000</td>\n",
              "      <td>36.525000</td>\n",
              "      <td>45.100000</td>\n",
              "      <td>137.872500</td>\n",
              "      <td>20.055000</td>\n",
              "      <td>17.400000</td>\n",
              "    </tr>\n",
              "    <tr>\n",
              "      <th>max</th>\n",
              "      <td>296.400000</td>\n",
              "      <td>49.600000</td>\n",
              "      <td>114.000000</td>\n",
              "      <td>188.530000</td>\n",
              "      <td>170.650000</td>\n",
              "      <td>27.000000</td>\n",
              "    </tr>\n",
              "  </tbody>\n",
              "</table>\n",
              "</div>"
            ],
            "text/plain": [
              "               TV       Radio  ...       Email    Ingresos\n",
              "count  200.000000  200.000000  ...  200.000000  200.000000\n",
              "mean   147.042500   23.264000  ...   17.259350   14.022500\n",
              "std     85.854236   14.846809  ...   26.584668    5.217457\n",
              "min      0.700000    0.000000  ...    0.000000    1.600000\n",
              "25%     74.375000    9.975000  ...    2.522500   10.375000\n",
              "50%    149.750000   22.900000  ...    8.160000   12.900000\n",
              "75%    218.825000   36.525000  ...   20.055000   17.400000\n",
              "max    296.400000   49.600000  ...  170.650000   27.000000\n",
              "\n",
              "[8 rows x 6 columns]"
            ]
          },
          "metadata": {
            "tags": []
          },
          "execution_count": 39
        }
      ]
    },
    {
      "cell_type": "code",
      "metadata": {
        "id": "5b5UFyd_9RI6"
      },
      "source": [
        "# Lo primero que se puede observar en los ingresos es que siempre son positivos, ya que el mínimo es 1,6€\r\n",
        "# También puede observarse, según la media, que el mayor % de los ingresos vienen relacionados con la Televisión y Redes Sociales\r\n",
        "# En mi opinión, debería eliminarse la financiación de Radio y Periódico, ya que su coste medio es relativamente elevado para lo que aportan, y destinaría la financiación a TV y Redes Sociales que son las más importantes.\r\n"
      ],
      "execution_count": null,
      "outputs": []
    },
    {
      "cell_type": "markdown",
      "metadata": {
        "id": "alVsAIxP_IAv"
      },
      "source": [
        "B)"
      ]
    },
    {
      "cell_type": "code",
      "metadata": {
        "colab": {
          "base_uri": "https://localhost:8080/",
          "height": 251
        },
        "id": "M5X7C2Rb86iC",
        "outputId": "690fa3e8-3a90-4ca7-823e-9d1f7601063e"
      },
      "source": [
        "# Con un piechart se visualizan mejor las proporciones para que el Sr. Juan pueda comprobar que los ingresos vienen en su mayoría por TV y Redes Sociales\r\n",
        "labels_medios = []\r\n",
        "sizes_costes = []\r\n",
        "for medio, coste in marketing_costs.items():\r\n",
        "    labels_medios.append(medio)\r\n",
        "    sizes_costes.append(coste)\r\n",
        "\r\n",
        "plt.pie(sizes_costes, labels=labels_medios, autopct='%1.2f%%')\r\n",
        "plt.axis('equal')\r\n",
        "plt.show()"
      ],
      "execution_count": null,
      "outputs": [
        {
          "output_type": "display_data",
          "data": {
            "image/png": "[encoded data removed]",
            "text/plain": [
              "<Figure size 432x288 with 1 Axes>"
            ]
          },
          "metadata": {
            "tags": []
          }
        }
      ]
    },
    {
      "cell_type": "markdown",
      "metadata": {
        "id": "kC5kgaAgqi4G"
      },
      "source": [
        "# Challenge 2\r\n"
      ]
    },
    {
      "cell_type": "markdown",
      "metadata": {
        "id": "op3p3JtHEr58"
      },
      "source": [
        "A) "
      ]
    },
    {
      "cell_type": "code",
      "metadata": {
        "colab": {
          "base_uri": "https://localhost:8080/",
          "height": 314
        },
        "id": "0-FkpfTwqsCa",
        "outputId": "6385c070-fc28-4a5a-8532-55b77d089fdf"
      },
      "source": [
        "import numpy as np\r\n",
        "from sklearn.linear_model import LinearRegression\r\n",
        "from sklearn.model_selection import train_test_split \r\n",
        "import matplotlib.pyplot as plt\r\n",
        "# Aunque no aparece en el anunciado, he descubierto Seaborn, una librería para visualizar datos que me parecía interesante de utilizar\r\n",
        "import seaborn as sns\r\n",
        "%matplotlib inline\r\n",
        "\r\n",
        "dataframe = pd.read_csv('/content/sample_data/Marketing.csv')\r\n",
        "print(dataframe.shape)\r\n",
        "dataframe.describe()"
      ],
      "execution_count": null,
      "outputs": [
        {
          "output_type": "stream",
          "text": [
            "(200, 6)\n"
          ],
          "name": "stdout"
        },
        {
          "output_type": "execute_result",
          "data": {
            "text/html": [
              "<div>\n",
              "<style scoped>\n",
              "    .dataframe tbody tr th:only-of-type {\n",
              "        vertical-align: middle;\n",
              "    }\n",
              "\n",
              "    .dataframe tbody tr th {\n",
              "        vertical-align: top;\n",
              "    }\n",
              "\n",
              "    .dataframe thead th {\n",
              "        text-align: right;\n",
              "    }\n",
              "</style>\n",
              "<table border=\"1\" class=\"dataframe\">\n",
              "  <thead>\n",
              "    <tr style=\"text-align: right;\">\n",
              "      <th></th>\n",
              "      <th>TV</th>\n",
              "      <th>Radio</th>\n",
              "      <th>Periodico</th>\n",
              "      <th>Redes Sociales</th>\n",
              "      <th>Email</th>\n",
              "      <th>Ingresos</th>\n",
              "    </tr>\n",
              "  </thead>\n",
              "  <tbody>\n",
              "    <tr>\n",
              "      <th>count</th>\n",
              "      <td>200.000000</td>\n",
              "      <td>200.000000</td>\n",
              "      <td>200.000000</td>\n",
              "      <td>200.000000</td>\n",
              "      <td>200.000000</td>\n",
              "      <td>200.000000</td>\n",
              "    </tr>\n",
              "    <tr>\n",
              "      <th>mean</th>\n",
              "      <td>147.042500</td>\n",
              "      <td>23.264000</td>\n",
              "      <td>30.554000</td>\n",
              "      <td>96.506750</td>\n",
              "      <td>17.259350</td>\n",
              "      <td>14.022500</td>\n",
              "    </tr>\n",
              "    <tr>\n",
              "      <th>std</th>\n",
              "      <td>85.854236</td>\n",
              "      <td>14.846809</td>\n",
              "      <td>21.778621</td>\n",
              "      <td>49.824942</td>\n",
              "      <td>26.584668</td>\n",
              "      <td>5.217457</td>\n",
              "    </tr>\n",
              "    <tr>\n",
              "      <th>min</th>\n",
              "      <td>0.700000</td>\n",
              "      <td>0.000000</td>\n",
              "      <td>0.300000</td>\n",
              "      <td>6.060000</td>\n",
              "      <td>0.000000</td>\n",
              "      <td>1.600000</td>\n",
              "    </tr>\n",
              "    <tr>\n",
              "      <th>25%</th>\n",
              "      <td>74.375000</td>\n",
              "      <td>9.975000</td>\n",
              "      <td>12.750000</td>\n",
              "      <td>51.357500</td>\n",
              "      <td>2.522500</td>\n",
              "      <td>10.375000</td>\n",
              "    </tr>\n",
              "    <tr>\n",
              "      <th>50%</th>\n",
              "      <td>149.750000</td>\n",
              "      <td>22.900000</td>\n",
              "      <td>25.750000</td>\n",
              "      <td>99.480000</td>\n",
              "      <td>8.160000</td>\n",
              "      <td>12.900000</td>\n",
              "    </tr>\n",
              "    <tr>\n",
              "      <th>75%</th>\n",
              "      <td>218.825000</td>\n",
              "      <td>36.525000</td>\n",
              "      <td>45.100000</td>\n",
              "      <td>137.872500</td>\n",
              "      <td>20.055000</td>\n",
              "      <td>17.400000</td>\n",
              "    </tr>\n",
              "    <tr>\n",
              "      <th>max</th>\n",
              "      <td>296.400000</td>\n",
              "      <td>49.600000</td>\n",
              "      <td>114.000000</td>\n",
              "      <td>188.530000</td>\n",
              "      <td>170.650000</td>\n",
              "      <td>27.000000</td>\n",
              "    </tr>\n",
              "  </tbody>\n",
              "</table>\n",
              "</div>"
            ],
            "text/plain": [
              "               TV       Radio  ...       Email    Ingresos\n",
              "count  200.000000  200.000000  ...  200.000000  200.000000\n",
              "mean   147.042500   23.264000  ...   17.259350   14.022500\n",
              "std     85.854236   14.846809  ...   26.584668    5.217457\n",
              "min      0.700000    0.000000  ...    0.000000    1.600000\n",
              "25%     74.375000    9.975000  ...    2.522500   10.375000\n",
              "50%    149.750000   22.900000  ...    8.160000   12.900000\n",
              "75%    218.825000   36.525000  ...   20.055000   17.400000\n",
              "max    296.400000   49.600000  ...  170.650000   27.000000\n",
              "\n",
              "[8 rows x 6 columns]"
            ]
          },
          "metadata": {
            "tags": []
          },
          "execution_count": 71
        }
      ]
    },
    {
      "cell_type": "code",
      "metadata": {
        "colab": {
          "base_uri": "https://localhost:8080/",
          "height": 250
        },
        "id": "z_WMMNrZqsPy",
        "outputId": "daf31454-ccae-46b9-a23f-136cb60e9d7a"
      },
      "source": [
        "sns.pairplot(dataframe, x_vars = ['TV', 'Radio', 'Periodico', 'Redes Sociales', 'Email'], y_vars = 'Ingresos', height = 3)\r\n"
      ],
      "execution_count": null,
      "outputs": [
        {
          "output_type": "execute_result",
          "data": {
            "text/plain": [
              "<seaborn.axisgrid.PairGrid at 0x7f6065448b70>"
            ]
          },
          "metadata": {
            "tags": []
          },
          "execution_count": 104
        },
        {
          "output_type": "display_data",
          "data": {
            "image/png": "[encoded data removed]",
            "text/plain": [
              "<Figure size 1080x216 with 5 Axes>"
            ]
          },
          "metadata": {
            "tags": [],
            "needs_background": "light"
          }
        }
      ]
    },
    {
      "cell_type": "code",
      "metadata": {
        "colab": {
          "base_uri": "https://localhost:8080/"
        },
        "id": "cjawk0liKZaL",
        "outputId": "fb7232bc-672c-4849-f68c-cd3e17ad1b8f"
      },
      "source": [
        "# En este apartado se prepara el modelo\r\n",
        "\r\n",
        "variables_predictoras = ['TV', 'Radio', 'Periodico', 'Redes Sociales', 'Email']\r\n",
        "variable_a_predecir = 'Ingresos'\r\n",
        "# Por convención los modelos se entrenan con X e Y\r\n",
        "X = dataframe[variables_predictoras]\r\n",
        "Y = dataframe[variable_a_predecir]\r\n",
        "\r\n",
        "# La regla habitual es destinar un 80% de los datos a entrenar el modelo y el 20% restante a pruebas de testing\r\n",
        "x_train, x_test, y_train, y_test = train_test_split(X, Y, test_size = 0.20)\r\n",
        "\r\n",
        "# Creación del modelo\r\n",
        "modelo_lineal = LinearRegression()\r\n",
        "# Entrenamiento del mismo \r\n",
        "modelo_lineal.fit(x_train, y_train) \r\n",
        "\r\n",
        "print(modelo_lineal.score(x_test, y_test))  # Score del modelo\r\n",
        "print(modelo_lineal.intercept_)\r\n"
      ],
      "execution_count": null,
      "outputs": [
        {
          "output_type": "stream",
          "text": [
            "0.9452275835477029\n",
            "3.084682045396818\n"
          ],
          "name": "stdout"
        }
      ]
    },
    {
      "cell_type": "code",
      "metadata": {
        "colab": {
          "base_uri": "https://localhost:8080/"
        },
        "id": "ulzEGvzoP2SZ",
        "outputId": "b21d1404-1312-4149-cb14-59a1a75407b7"
      },
      "source": [
        "# Puesta a prueba del modelo, haciendo algunas predicciones\r\n",
        "prediccion_y = modelo_lineal.predict(x_test)\r\n",
        "df = pd.DataFrame({'Actual': y_test, 'Predicted': prediccion_y})\r\n",
        "print(df)"
      ],
      "execution_count": null,
      "outputs": [
        {
          "output_type": "stream",
          "text": [
            "     Actual  Predicted\n",
            "44      8.5   7.935695\n",
            "111    21.8  21.205231\n",
            "20     18.0  18.624996\n",
            "129     9.7   8.354753\n",
            "92     19.4  19.793757\n",
            "120    15.5  15.001070\n",
            "68     18.9  18.528544\n",
            "104    20.7  20.011471\n",
            "18     11.3  10.288985\n",
            "108     5.3   4.448225\n",
            "117     9.4   6.754242\n",
            "172     7.6   7.627745\n",
            "9      10.6  11.971439\n",
            "91      7.3   5.473610\n",
            "87     16.0  15.995943\n",
            "69     22.3  21.412047\n",
            "64     18.0  17.474185\n",
            "45     14.9  15.289908\n",
            "136     9.5  12.256493\n",
            "55     23.7  21.879432\n",
            "96     11.7  11.712459\n",
            "21     12.5  14.148149\n",
            "72      8.8  10.535290\n",
            "17     24.4  23.574967\n",
            "0      22.1  21.221280\n",
            "138     9.6   9.947150\n",
            "150    16.1  17.978531\n",
            "169    15.0  16.555761\n",
            "147    25.4  23.712704\n",
            "48     14.8  16.559804\n",
            "177    11.7  12.409273\n",
            "195     7.6   5.600358\n",
            "94     11.5  10.443551\n",
            "10      8.6   7.387100\n",
            "106     7.2   6.115444\n",
            "127     8.8   6.552052\n",
            "51     10.7   9.089294\n",
            "93     22.2  21.929623\n",
            "75      8.7   6.558895\n",
            "3      18.5  18.112718\n"
          ],
          "name": "stdout"
        }
      ]
    },
    {
      "cell_type": "code",
      "metadata": {
        "colab": {
          "base_uri": "https://localhost:8080/"
        },
        "id": "R6wCHp1qbXq8",
        "outputId": "76d07120-07cf-4c51-93a3-98c1f8303d61"
      },
      "source": [
        "# Tal y como está mencionado más arriba, la score es la siguiente:\r\n",
        "print(modelo_lineal.score(x_test, y_test))  # Score del modelo\r\n"
      ],
      "execution_count": null,
      "outputs": [
        {
          "output_type": "stream",
          "text": [
            "0.9452275835477029\n"
          ],
          "name": "stdout"
        }
      ]
    },
    {
      "cell_type": "markdown",
      "metadata": {
        "id": "r4fmjwPLbQZB"
      },
      "source": [
        "B)"
      ]
    },
    {
      "cell_type": "code",
      "metadata": {
        "colab": {
          "base_uri": "https://localhost:8080/"
        },
        "id": "081KRMbFbSLY",
        "outputId": "4e84d390-92c0-47ee-8d95-8a8c366d19a3"
      },
      "source": [
        "# En una escala más reducida, y teniendo en cuenta sólo Redes Sociales y Email, el código se reduce bastante\r\n",
        "dataframe_email_redes = pd.read_csv('/content/sample_data/Marketing.csv')\r\n",
        "X = dataframe_email_redes[['Redes Sociales', 'Email']]\r\n",
        "y = dataframe_email_redes['Ingresos']\r\n",
        "\r\n",
        "modelo = LinearRegression()\r\n",
        "modelo.fit(X, y)\r\n",
        "\r\n",
        "#predict the CO2 emission of a car where the weight is 2300kg, and the volume is 1300cm3:\r\n",
        "prediccion_marketing = modelo.predict([[500, 100]])\r\n",
        "print(prediccion_marketing)"
      ],
      "execution_count": null,
      "outputs": [
        {
          "output_type": "stream",
          "text": [
            "[54.36140839]\n"
          ],
          "name": "stdout"
        }
      ]
    },
    {
      "cell_type": "code",
      "metadata": {
        "id": "mwMXqzDyhgfQ"
      },
      "source": [
        "# Con una inversión semanal únicamente de 500€ en redes y 100€ en Email se conseguirían unos beneficios de 54.36€ "
      ],
      "execution_count": null,
      "outputs": []
    }
  ]
}